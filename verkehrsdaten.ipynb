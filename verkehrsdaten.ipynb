{
 "metadata": {
  "language_info": {
   "codemirror_mode": {
    "name": "ipython",
    "version": 3
   },
   "file_extension": ".py",
   "mimetype": "text/x-python",
   "name": "python",
   "nbconvert_exporter": "python",
   "pygments_lexer": "ipython3",
   "version": "3.9.2-final"
  },
  "orig_nbformat": 2,
  "kernelspec": {
   "name": "python3",
   "display_name": "Python 3.9.2 64-bit",
   "metadata": {
    "interpreter": {
     "hash": "3a3b76dc9f98c3b7c2833723de1f287f5b2fddd8af30239771319b1a6738189a"
    }
   }
  }
 },
 "nbformat": 4,
 "nbformat_minor": 2,
 "cells": [
  {
   "cell_type": "code",
   "execution_count": 1,
   "metadata": {},
   "outputs": [
    {
     "output_type": "error",
     "ename": "NameError",
     "evalue": "name 'file' is not defined",
     "traceback": [
      "\u001b[1;31m---------------------------------------------------------------------------\u001b[0m",
      "\u001b[1;31mNameError\u001b[0m                                 Traceback (most recent call last)",
      "\u001b[1;32m<ipython-input-1-f8e2e6d571c0>\u001b[0m in \u001b[0;36m<module>\u001b[1;34m\u001b[0m\n\u001b[0;32m     36\u001b[0m \u001b[1;33m\u001b[0m\u001b[0m\n\u001b[0;32m     37\u001b[0m \u001b[1;31m# Open the CSV file\u001b[0m\u001b[1;33m\u001b[0m\u001b[1;33m\u001b[0m\u001b[1;33m\u001b[0m\u001b[0m\n\u001b[1;32m---> 38\u001b[1;33m \u001b[1;32mwith\u001b[0m \u001b[0mopen\u001b[0m\u001b[1;33m(\u001b[0m\u001b[0mfile\u001b[0m\u001b[1;33m)\u001b[0m \u001b[1;32mas\u001b[0m \u001b[0mcsv_file\u001b[0m\u001b[1;33m:\u001b[0m\u001b[1;33m\u001b[0m\u001b[1;33m\u001b[0m\u001b[0m\n\u001b[0m\u001b[0;32m     39\u001b[0m     \u001b[1;31m# Read the CSV file with delimiter ';'\u001b[0m\u001b[1;33m\u001b[0m\u001b[1;33m\u001b[0m\u001b[1;33m\u001b[0m\u001b[0m\n\u001b[0;32m     40\u001b[0m     \u001b[0mcsv_reader\u001b[0m \u001b[1;33m=\u001b[0m \u001b[0mcsv\u001b[0m\u001b[1;33m.\u001b[0m\u001b[0mreader\u001b[0m\u001b[1;33m(\u001b[0m\u001b[0mcsv_file\u001b[0m\u001b[1;33m,\u001b[0m \u001b[0mdelimiter\u001b[0m \u001b[1;33m=\u001b[0m \u001b[1;34m\";\"\u001b[0m\u001b[1;33m)\u001b[0m\u001b[1;33m\u001b[0m\u001b[1;33m\u001b[0m\u001b[0m\n",
      "\u001b[1;31mNameError\u001b[0m: name 'file' is not defined"
     ]
    }
   ],
   "source": [
    "# Imports\n",
    "import csv\n",
    "\n",
    "import datetime\n",
    "import numpy as np\n",
    "import matplotlib.pyplot as plt\n",
    "%matplotlib inline\n",
    "\n",
    "# CSV folder\n",
    "folder = '210226_Daten_Hackathon/210226_Daten_Verkehr_Hackathon/'\n",
    "\n",
    "# Traffic data of the direction\n",
    "class TrafficData:\n",
    "    # Traffic data\n",
    "    time = []\n",
    "    count = []\n",
    "    speed_sum = []\n",
    "\n",
    "    def __init__(self, direction):\n",
    "        self.direction = direction\n",
    "\n",
    "    # Adds traffic data to the direction\n",
    "    def add_data(self, time, speed):\n",
    "        if(time in self.time):\n",
    "            index = self.time.index(time)\n",
    "            self.count[index] = self.count[index] + 1\n",
    "            self.speed_sum[index] = self.speed_sum[index] + speed\n",
    "        else:\n",
    "            self.time.append(time)\n",
    "            self.count.append(1)\n",
    "            self.speed_sum.append(speed)\n",
    "\n",
    "\n",
    "# Traffic for each direction\n",
    "traffic = {}\n",
    "\n",
    "# Open the CSV file\n",
    "with open(file) as csv_file:\n",
    "    # Read the CSV file with delimiter ';'\n",
    "    csv_reader = csv.reader(csv_file, delimiter = \";\")\n",
    "    i = 0\n",
    "\n",
    "    # Iterate through CSV rows\n",
    "    for row in csv_reader:\n",
    "        # Skip first 2 lines\n",
    "        if i < 1:\n",
    "            i = i + 1\n",
    "            continue\n",
    "\n",
    "        # Get parameters\n",
    "        classification = row[0]\n",
    "        confidence = int(row[1])\n",
    "        direction = row[2]\n",
    "        speed = int(row[3])\n",
    "        time = datetime.datetime.strptime(row[4][:-3], '%d.%m.%Y %H')\n",
    "\n",
    "        # Get current traffic instance\n",
    "        if (direction in traffic) == False:\n",
    "            traffic[direction] = TrafficData(direction)\n",
    "\n",
    "        current = traffic[direction]\n",
    "\n",
    "        # Add traffic data\n",
    "        current.add_data(time, speed)\n",
    "\n",
    "# Plot count\n",
    "fig = plt.figure(figsize =(25, 10))\n",
    "sub1 = fig.add_subplot(221)\n",
    "sub1.set_title('Count')\n",
    "sub1.set_xlabel('Time')\n",
    "sub1.set_ylabel('Count')\n",
    "sub1.set_ylim(0, 50)\n",
    "sub1.plot(traffic[\"Richtung A nach B\"].time, traffic[\"Richtung A nach B\"].count)\n",
    "\n",
    "# Plot speed\n",
    "sub2 = fig.add_subplot(222)\n",
    "sub2.set_title('Speed')\n",
    "sub2.set_xlabel('Time')\n",
    "sub2.set_ylabel('Speed')\n",
    "sub2.set_ylim(0, 80)\n",
    "sub2.plot(traffic[\"Richtung A nach B\"].time, traffic[\"Richtung A nach B\"].speed_sum / traffic[\"Richtung A nach B\"].count)\n",
    "\n",
    "plt.show()"
   ]
  },
  {
   "cell_type": "code",
   "execution_count": null,
   "metadata": {},
   "outputs": [],
   "source": []
  }
 ]
}